{
 "cells": [
  {
   "cell_type": "code",
   "execution_count": null,
   "metadata": {},
   "outputs": [],
   "source": [
    "from IPython.display import display\n",
    "from ipywidgets import interact_manual\n",
    "\n",
    "\n",
    "@interact_manual(name=\"\", major=[\"IMT\", \"IST\", \"ADA\"], gpa=(0.0,4.0,0.05))\n",
    "def onclick(name,major,gpa):\n",
    "    if gpa < 1.8:\n",
    "        status = \"probation\"\n",
    "    elif gpa > 3.4:\n",
    "        status = \"deans list\"\n",
    "    else:\n",
    "        status = \"no list\"\n",
    "    display(f\"{name} in {major} with gpa of {gpa} is on {status}\")"
   ]
  }
 ],
 "metadata": {
  "language_info": {
   "name": "python"
  }
 },
 "nbformat": 4,
 "nbformat_minor": 2
}
