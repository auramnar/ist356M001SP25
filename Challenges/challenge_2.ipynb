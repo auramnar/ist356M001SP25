{
 "cells": [
  {
   "cell_type": "code",
   "execution_count": 4,
   "metadata": {},
   "outputs": [
    {
     "name": "stdout",
     "output_type": "stream",
     "text": [
      "Everyone should pay: 60.0\n"
     ]
    }
   ],
   "source": [
    "#1.1.2\n",
    "price = int(input(\"Enter price:\"))\n",
    "tip_percent = int(input(\"Enter tip percent:\"))\n",
    "num_diners = int(input(\"Enter number of diners:\"))\n",
    "total_price = price + (price * (tip_percent/100))\n",
    "price_per_diner = total_price / num_diners\n",
    "print(f\"Everyone should pay: {price_per_diner}\")"
   ]
  }
 ],
 "metadata": {
  "kernelspec": {
   "display_name": "Python 3",
   "language": "python",
   "name": "python3"
  },
  "language_info": {
   "codemirror_mode": {
    "name": "ipython",
    "version": 3
   },
   "file_extension": ".py",
   "mimetype": "text/x-python",
   "name": "python",
   "nbconvert_exporter": "python",
   "pygments_lexer": "ipython3",
   "version": "3.11.9"
  }
 },
 "nbformat": 4,
 "nbformat_minor": 2
}
