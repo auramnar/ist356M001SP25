{
 "cells": [
  {
   "cell_type": "code",
   "execution_count": 28,
   "metadata": {},
   "outputs": [
    {
     "data": {
      "application/vnd.jupyter.widget-view+json": {
       "model_id": "bf5a6538697047269d5894c84fe99fa8",
       "version_major": 2,
       "version_minor": 0
      },
      "text/plain": [
       "interactive(children=(Text(value='', continuous_update=False, description='name'), Dropdown(description='major…"
      ]
     },
     "metadata": {},
     "output_type": "display_data"
    }
   ],
   "source": [
    "from IPython.display import display\n",
    "from ipywidgets import interact_manual\n",
    "\n",
    "@interact_manual(name=\"\", major=[\"IMT\", \"IST\", \"ADA\"], gpa=(0.0,4,0.01))\n",
    "def on_click(name, major, gpa):\n",
    "    if gpa < 1.8:\n",
    "        status = \"probation\"\n",
    "    elif gpa > 3.4:\n",
    "        status = \"deans list\"\n",
    "    else:\n",
    "        status = \"no list\"\n",
    "    return(f\"{name} in {major} with {gpa} is on {status}\")"
   ]
  }
 ],
 "metadata": {
  "kernelspec": {
   "display_name": "Python 3",
   "language": "python",
   "name": "python3"
  },
  "language_info": {
   "codemirror_mode": {
    "name": "ipython",
    "version": 3
   },
   "file_extension": ".py",
   "mimetype": "text/x-python",
   "name": "python",
   "nbconvert_exporter": "python",
   "pygments_lexer": "ipython3",
   "version": "3.11.9"
  }
 },
 "nbformat": 4,
 "nbformat_minor": 2
}
