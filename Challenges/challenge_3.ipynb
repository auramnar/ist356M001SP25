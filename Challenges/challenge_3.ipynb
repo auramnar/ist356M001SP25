{
 "cells": [
  {
   "cell_type": "code",
   "execution_count": 5,
   "metadata": {},
   "outputs": [
    {
     "name": "stdout",
     "output_type": "stream",
     "text": [
      "Door open\n"
     ]
    }
   ],
   "source": [
    "#1.1.3\n",
    "#pressure = int(input(\"Enter the pressure: \"))\n",
    "#if pressure > 10:\n",
    "#    print(\"Door open\")\n",
    "#else:\n",
    "#    print(\"Door closed\")\n",
    "while True:\n",
    "    pressure = int(input(\"Enter the pressure: \"))\n",
    "    if pressure > 10:\n",
    "        print(\"Door open\")\n",
    "        break\n",
    "    else:\n",
    "        print(\"Door closed\")"
   ]
  }
 ],
 "metadata": {
  "kernelspec": {
   "display_name": "Python 3",
   "language": "python",
   "name": "python3"
  },
  "language_info": {
   "codemirror_mode": {
    "name": "ipython",
    "version": 3
   },
   "file_extension": ".py",
   "mimetype": "text/x-python",
   "name": "python",
   "nbconvert_exporter": "python",
   "pygments_lexer": "ipython3",
   "version": "3.11.9"
  }
 },
 "nbformat": 4,
 "nbformat_minor": 2
}
