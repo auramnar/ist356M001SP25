{
 "cells": [
  {
   "cell_type": "code",
   "execution_count": null,
   "metadata": {},
   "outputs": [],
   "source": []
  },
  {
   "cell_type": "code",
   "execution_count": null,
   "metadata": {},
   "outputs": [],
   "source": []
  },
  {
   "cell_type": "code",
   "execution_count": 6,
   "metadata": {},
   "outputs": [
    {
     "name": "stdout",
     "output_type": "stream",
     "text": [
      "invalid password\n",
      "invalid password\n",
      "invalid password\n",
      "invalid password\n",
      "invalid password\n",
      "You are locked out\n"
     ]
    }
   ],
   "source": [
    "for i in range(5):\n",
    "    pw = input(\"Enter your password:\")\n",
    "    if pw == 'secret':\n",
    "        print('Access Granted')\n",
    "        break\n",
    "    else:\n",
    "        print('invalid password')\n",
    "    if i == 4:\n",
    "        print('You are locked out')"
   ]
  }
 ],
 "metadata": {
  "kernelspec": {
   "display_name": "Python 3",
   "language": "python",
   "name": "python3"
  },
  "language_info": {
   "codemirror_mode": {
    "name": "ipython",
    "version": 3
   },
   "file_extension": ".py",
   "mimetype": "text/x-python",
   "name": "python",
   "nbconvert_exporter": "python",
   "pygments_lexer": "ipython3",
   "version": "3.11.9"
  }
 },
 "nbformat": 4,
 "nbformat_minor": 2
}
